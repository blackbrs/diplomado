{
 "cells": [
  {
   "cell_type": "code",
   "execution_count": 2,
   "metadata": {},
   "outputs": [],
   "source": [
    "\"\"\"\n",
    "    Apartado de importaciones y preparaciones iniciales\n",
    "\"\"\"\n",
    "import pandas as pd\n",
    "import os\n",
    "RUTA_RECODE_DATASER =\"recodes/\"\n",
    "RUTA_DATASET_INICIAL = \"datasets/\"\n",
    "RUTA_DATASET_LIMPIADO = \"01_dataset_limpiado/\"\n",
    "RUTA_DATASET_FRECUENCIA_GRUPOS = \"02_frecuencia_grupos/\"\n",
    "RUTA_DATASET_GRUPOS_CONSOLIDADO = \"04_consolidado_grupos/\"\n",
    "RUTA_DATASET_TOTALES_ENFERMEDADES = \"05_frecuencias_totales/\"\n",
    "\n",
    "COLUMNAS_INICIALES_INTERES = [\"ucr358\", \"sex\", \"ager52\", \"race\"]\n",
    "COLUMNAS_GRUPOS_INTERES = [\"ucr358\", \"sex\", \"ager52\", \"race\", \"count\", \"year\"]\n",
    "\n",
    "NOMBRE_ARCHIVO_CONSOLIDADO_FREC_GRUPO = \"frecuencia_grupos_enfermedades.csv\"\n",
    "NOMBRE_ARCHIVO_CONSOLIDADO_TOTALES = \"recuencias_grupos_enfermedades_total.csv\"\n",
    "\n",
    "COLUMNA_TOTAL = \"count\"\n",
    "\n",
    "# Creando directorios en caso no se encuentren en el root\n",
    "if(not os.path.exists(RUTA_DATASET_INICIAL)): os.makedirs(RUTA_DATASET_INICIAL)\n",
    "if(not os.path.exists(RUTA_DATASET_LIMPIADO)): os.makedirs(RUTA_DATASET_LIMPIADO)\n",
    "if(not os.path.exists(RUTA_DATASET_FRECUENCIA_GRUPOS)): os.makedirs(RUTA_DATASET_FRECUENCIA_GRUPOS)\n",
    "if(not os.path.exists(RUTA_DATASET_GRUPOS_CONSOLIDADO)): os.makedirs(RUTA_DATASET_GRUPOS_CONSOLIDADO)\n",
    "if(not os.path.exists(RUTA_DATASET_TOTALES_ENFERMEDADES)): os.makedirs(RUTA_DATASET_TOTALES_ENFERMEDADES)"
   ]
  },
  {
   "cell_type": "code",
   "execution_count": 3,
   "id": "975c35a6",
   "metadata": {},
   "outputs": [
    {
     "name": "stdout",
     "output_type": "stream",
     "text": [
      "Convirtiendo: 2019.csv\n"
     ]
    },
    {
     "name": "stderr",
     "output_type": "stream",
     "text": [
      "C:\\Users\\JRG\\AppData\\Local\\Temp\\ipykernel_19864\\3170342760.py:15: DtypeWarning: Columns (66,69,72,100,101,102,103) have mixed types. Specify dtype option on import or set low_memory=False.\n",
      "  df_muertes = pd.read_csv(carpeta_inicial + archivo)\n"
     ]
    },
    {
     "name": "stdout",
     "output_type": "stream",
     "text": [
      "Dataset almacenado\n",
      "Convirtiendo: 2020.csv\n"
     ]
    },
    {
     "name": "stderr",
     "output_type": "stream",
     "text": [
      "C:\\Users\\JRG\\AppData\\Local\\Temp\\ipykernel_19864\\3170342760.py:15: DtypeWarning: Columns (66,69,72,100,101,102,103) have mixed types. Specify dtype option on import or set low_memory=False.\n",
      "  df_muertes = pd.read_csv(carpeta_inicial + archivo)\n"
     ]
    },
    {
     "name": "stdout",
     "output_type": "stream",
     "text": [
      "Dataset almacenado\n",
      "Convirtiendo: 2021.csv\n"
     ]
    },
    {
     "name": "stderr",
     "output_type": "stream",
     "text": [
      "C:\\Users\\JRG\\AppData\\Local\\Temp\\ipykernel_19864\\3170342760.py:15: DtypeWarning: Columns (69,72,101,102,103) have mixed types. Specify dtype option on import or set low_memory=False.\n",
      "  df_muertes = pd.read_csv(carpeta_inicial + archivo)\n"
     ]
    },
    {
     "name": "stdout",
     "output_type": "stream",
     "text": [
      "Dataset almacenado\n"
     ]
    }
   ],
   "source": [
    "\"\"\"\n",
    "    01 - Algoritmo de limpiado y extraccion\n",
    "\n",
    "    Objetivo:\n",
    "    *) En base a los datasets iniciales, que cuentan con columnas innecesarias que se no se ocuparan en la investigacion\n",
    "       el algoritmo de limpiado y extraccion busca guardar los datasets, solo con las columnas que se buscan estudiar\n",
    "\"\"\"\n",
    "carpeta_inicial = RUTA_DATASET_INICIAL\n",
    "carpeta_destino = RUTA_DATASET_LIMPIADO\n",
    "columnas_interes = COLUMNAS_INICIALES_INTERES\n",
    "archivos_convertir = os.listdir(carpeta_inicial)\n",
    "\n",
    "for archivo in archivos_convertir:\n",
    "    print(\"Convirtiendo: \" + archivo)\n",
    "    df_muertes = pd.read_csv(carpeta_inicial + archivo)\n",
    "    df_resumido = df_muertes[columnas_interes]\n",
    "    df_resumido.to_csv(carpeta_destino + archivo, index=False)\n",
    "    print(\"Dataset almacenado\")"
   ]
  },
  {
   "cell_type": "code",
   "execution_count": 5,
   "id": "2b8a3dd7",
   "metadata": {},
   "outputs": [
    {
     "name": "stdout",
     "output_type": "stream",
     "text": [
      "Procesando agrupaciones para: 2019.csv\n",
      "Totales de muertes en el año: 2861523\n",
      "Agrupaciones almacenadas\n",
      "Procesando agrupaciones para: 2020.csv\n",
      "Totales de muertes en el año: 3390278\n",
      "Agrupaciones almacenadas\n",
      "Procesando agrupaciones para: 2021.csv\n",
      "Totales de muertes en el año: 0\n",
      "Agrupaciones almacenadas\n"
     ]
    }
   ],
   "source": [
    "\"\"\"\n",
    "    02 - Algoritmo de agrupamiento\n",
    "\n",
    "    Objetivo:\n",
    "    *) En el paso anterior se realizó el proceso de extraccion y limpiado de datos para cada uno de los años \n",
    "       que se buscan estudiar, para este paso se busca saber la frecuencia de los grupos de interes, en este\n",
    "       caso un grupo esta formado por:\n",
    "\n",
    "        -> Genero\n",
    "        -> Edad\n",
    "        -> Raza\n",
    "        -> Enfermedad\n",
    "\"\"\"\n",
    "\n",
    "carpeta_inicial = RUTA_DATASET_LIMPIADO\n",
    "carpeta_destino = RUTA_DATASET_FRECUENCIA_GRUPOS\n",
    "columnas_interes = COLUMNAS_INICIALES_INTERES\n",
    "archivos_convertir = os.listdir(carpeta_inicial)\n",
    "\n",
    "count = 0\n",
    "\n",
    "for archivo in archivos_convertir:\n",
    "    print(\"Procesando agrupaciones para: \" + archivo)\n",
    "    df_muertes = pd.read_csv(carpeta_inicial + archivo)\n",
    "    grupo = df_muertes.groupby(columnas_interes).size().sort_values(ascending=False)\n",
    "    df_agrupado = grupo.reset_index().rename(columns = { 0: COLUMNA_TOTAL }).sort_values(by = columnas_interes)\n",
    "    # Agregando el año de todas las filas (para distinguir el año de procedencia de la data)\n",
    "    df_agrupado[\"year\"] = int(archivo.split(\".\")[0])\n",
    "    df_agrupado.to_csv(carpeta_destino + archivo, index=False)\n",
    "    count = df_agrupado[COLUMNA_TOTAL].sum()\n",
    "    print(\"Totales de muertes en el año: \" + str(count))\n",
    "    print(\"Agrupaciones almacenadas\")"
   ]
  },
  {
   "cell_type": "code",
   "execution_count": 3,
   "metadata": {},
   "outputs": [
    {
     "name": "stderr",
     "output_type": "stream",
     "text": [
      "C:\\Users\\JRG\\AppData\\Local\\Temp\\ipykernel_5072\\1160224694.py:4: FutureWarning: The behavior of 'to_datetime' with 'unit' when parsing strings is deprecated. In a future version, strings will be parsed as datetime strings, matching the behavior without a 'unit'. To retain the old behavior, explicitly cast ints or floats to numeric type before calling to_datetime.\n",
      "  recode2019 = pd.read_json('recodes/recode2019.json')\n",
      "C:\\Users\\JRG\\AppData\\Local\\Temp\\ipykernel_5072\\1160224694.py:4: FutureWarning: The behavior of 'to_datetime' with 'unit' when parsing strings is deprecated. In a future version, strings will be parsed as datetime strings, matching the behavior without a 'unit'. To retain the old behavior, explicitly cast ints or floats to numeric type before calling to_datetime.\n",
      "  recode2019 = pd.read_json('recodes/recode2019.json')\n",
      "C:\\Users\\JRG\\AppData\\Local\\Temp\\ipykernel_5072\\1160224694.py:4: FutureWarning: The behavior of 'to_datetime' with 'unit' when parsing strings is deprecated. In a future version, strings will be parsed as datetime strings, matching the behavior without a 'unit'. To retain the old behavior, explicitly cast ints or floats to numeric type before calling to_datetime.\n",
      "  recode2019 = pd.read_json('recodes/recode2019.json')\n",
      "C:\\Users\\JRG\\AppData\\Local\\Temp\\ipykernel_5072\\1160224694.py:5: FutureWarning: The behavior of 'to_datetime' with 'unit' when parsing strings is deprecated. In a future version, strings will be parsed as datetime strings, matching the behavior without a 'unit'. To retain the old behavior, explicitly cast ints or floats to numeric type before calling to_datetime.\n",
      "  recode2020 = pd.read_json('recodes/recode2020.json')\n",
      "C:\\Users\\JRG\\AppData\\Local\\Temp\\ipykernel_5072\\1160224694.py:5: FutureWarning: The behavior of 'to_datetime' with 'unit' when parsing strings is deprecated. In a future version, strings will be parsed as datetime strings, matching the behavior without a 'unit'. To retain the old behavior, explicitly cast ints or floats to numeric type before calling to_datetime.\n",
      "  recode2020 = pd.read_json('recodes/recode2020.json')\n",
      "C:\\Users\\JRG\\AppData\\Local\\Temp\\ipykernel_5072\\1160224694.py:5: FutureWarning: The behavior of 'to_datetime' with 'unit' when parsing strings is deprecated. In a future version, strings will be parsed as datetime strings, matching the behavior without a 'unit'. To retain the old behavior, explicitly cast ints or floats to numeric type before calling to_datetime.\n",
      "  recode2020 = pd.read_json('recodes/recode2020.json')\n",
      "C:\\Users\\JRG\\AppData\\Local\\Temp\\ipykernel_5072\\1160224694.py:6: FutureWarning: The behavior of 'to_datetime' with 'unit' when parsing strings is deprecated. In a future version, strings will be parsed as datetime strings, matching the behavior without a 'unit'. To retain the old behavior, explicitly cast ints or floats to numeric type before calling to_datetime.\n",
      "  recode2021 = pd.read_json('recodes/recode2021.json')\n",
      "C:\\Users\\JRG\\AppData\\Local\\Temp\\ipykernel_5072\\1160224694.py:6: FutureWarning: The behavior of 'to_datetime' with 'unit' when parsing strings is deprecated. In a future version, strings will be parsed as datetime strings, matching the behavior without a 'unit'. To retain the old behavior, explicitly cast ints or floats to numeric type before calling to_datetime.\n",
      "  recode2021 = pd.read_json('recodes/recode2021.json')\n",
      "C:\\Users\\JRG\\AppData\\Local\\Temp\\ipykernel_5072\\1160224694.py:6: FutureWarning: The behavior of 'to_datetime' with 'unit' when parsing strings is deprecated. In a future version, strings will be parsed as datetime strings, matching the behavior without a 'unit'. To retain the old behavior, explicitly cast ints or floats to numeric type before calling to_datetime.\n",
      "  recode2021 = pd.read_json('recodes/recode2021.json')\n"
     ]
    },
    {
     "ename": "KeyError",
     "evalue": "1",
     "output_type": "error",
     "traceback": [
      "\u001b[1;31m---------------------------------------------------------------------------\u001b[0m",
      "\u001b[1;31mKeyError\u001b[0m                                  Traceback (most recent call last)",
      "File \u001b[1;32mc:\\ProgramData\\anaconda3\\Lib\\site-packages\\pandas\\core\\indexes\\base.py:3653\u001b[0m, in \u001b[0;36mIndex.get_loc\u001b[1;34m(self, key)\u001b[0m\n\u001b[0;32m   3652\u001b[0m \u001b[39mtry\u001b[39;00m:\n\u001b[1;32m-> 3653\u001b[0m     \u001b[39mreturn\u001b[39;00m \u001b[39mself\u001b[39m\u001b[39m.\u001b[39m_engine\u001b[39m.\u001b[39mget_loc(casted_key)\n\u001b[0;32m   3654\u001b[0m \u001b[39mexcept\u001b[39;00m \u001b[39mKeyError\u001b[39;00m \u001b[39mas\u001b[39;00m err:\n",
      "File \u001b[1;32mc:\\ProgramData\\anaconda3\\Lib\\site-packages\\pandas\\_libs\\index.pyx:147\u001b[0m, in \u001b[0;36mpandas._libs.index.IndexEngine.get_loc\u001b[1;34m()\u001b[0m\n",
      "File \u001b[1;32mc:\\ProgramData\\anaconda3\\Lib\\site-packages\\pandas\\_libs\\index.pyx:176\u001b[0m, in \u001b[0;36mpandas._libs.index.IndexEngine.get_loc\u001b[1;34m()\u001b[0m\n",
      "File \u001b[1;32mpandas\\_libs\\hashtable_class_helper.pxi:7080\u001b[0m, in \u001b[0;36mpandas._libs.hashtable.PyObjectHashTable.get_item\u001b[1;34m()\u001b[0m\n",
      "File \u001b[1;32mpandas\\_libs\\hashtable_class_helper.pxi:7088\u001b[0m, in \u001b[0;36mpandas._libs.hashtable.PyObjectHashTable.get_item\u001b[1;34m()\u001b[0m\n",
      "\u001b[1;31mKeyError\u001b[0m: 1",
      "\nThe above exception was the direct cause of the following exception:\n",
      "\u001b[1;31mKeyError\u001b[0m                                  Traceback (most recent call last)",
      "\u001b[1;32mc:\\Users\\JRG\\Documents\\diplomado\\Proyecto\\Proyecto.ipynb Cell 4\u001b[0m line \u001b[0;36m1\n\u001b[0;32m     <a href='vscode-notebook-cell:/c%3A/Users/JRG/Documents/diplomado/Proyecto/Proyecto.ipynb#W3sZmlsZQ%3D%3D?line=10'>11</a>\u001b[0m \u001b[39m# Realiza la comparación recursiva\u001b[39;00m\n\u001b[0;32m     <a href='vscode-notebook-cell:/c%3A/Users/JRG/Documents/diplomado/Proyecto/Proyecto.ipynb#W3sZmlsZQ%3D%3D?line=11'>12</a>\u001b[0m \u001b[39mfor\u001b[39;00m clave \u001b[39min\u001b[39;00m claves_a_comparar:\n\u001b[1;32m---> <a href='vscode-notebook-cell:/c%3A/Users/JRG/Documents/diplomado/Proyecto/Proyecto.ipynb#W3sZmlsZQ%3D%3D?line=12'>13</a>\u001b[0m     valor_df1 \u001b[39m=\u001b[39m recode2019\u001b[39m.\u001b[39mloc[clave, \u001b[39m\"\u001b[39m\u001b[39m358_cause_recode\u001b[39m\u001b[39m\"\u001b[39m]\n\u001b[0;32m     <a href='vscode-notebook-cell:/c%3A/Users/JRG/Documents/diplomado/Proyecto/Proyecto.ipynb#W3sZmlsZQ%3D%3D?line=13'>14</a>\u001b[0m     valor_df2 \u001b[39m=\u001b[39m recode2020\u001b[39m.\u001b[39mloc[clave, \u001b[39m\"\u001b[39m\u001b[39m358_cause_recode\u001b[39m\u001b[39m\"\u001b[39m]\n\u001b[0;32m     <a href='vscode-notebook-cell:/c%3A/Users/JRG/Documents/diplomado/Proyecto/Proyecto.ipynb#W3sZmlsZQ%3D%3D?line=14'>15</a>\u001b[0m     valor_df3 \u001b[39m=\u001b[39m recode2021\u001b[39m.\u001b[39mloc[clave, \u001b[39m\"\u001b[39m\u001b[39m358_cause_recode\u001b[39m\u001b[39m\"\u001b[39m]\n",
      "File \u001b[1;32mc:\\ProgramData\\anaconda3\\Lib\\site-packages\\pandas\\core\\indexing.py:1096\u001b[0m, in \u001b[0;36m_LocationIndexer.__getitem__\u001b[1;34m(self, key)\u001b[0m\n\u001b[0;32m   1094\u001b[0m     key \u001b[39m=\u001b[39m \u001b[39mtuple\u001b[39m(com\u001b[39m.\u001b[39mapply_if_callable(x, \u001b[39mself\u001b[39m\u001b[39m.\u001b[39mobj) \u001b[39mfor\u001b[39;00m x \u001b[39min\u001b[39;00m key)\n\u001b[0;32m   1095\u001b[0m     \u001b[39mif\u001b[39;00m \u001b[39mself\u001b[39m\u001b[39m.\u001b[39m_is_scalar_access(key):\n\u001b[1;32m-> 1096\u001b[0m         \u001b[39mreturn\u001b[39;00m \u001b[39mself\u001b[39m\u001b[39m.\u001b[39mobj\u001b[39m.\u001b[39m_get_value(\u001b[39m*\u001b[39mkey, takeable\u001b[39m=\u001b[39m\u001b[39mself\u001b[39m\u001b[39m.\u001b[39m_takeable)\n\u001b[0;32m   1097\u001b[0m     \u001b[39mreturn\u001b[39;00m \u001b[39mself\u001b[39m\u001b[39m.\u001b[39m_getitem_tuple(key)\n\u001b[0;32m   1098\u001b[0m \u001b[39melse\u001b[39;00m:\n\u001b[0;32m   1099\u001b[0m     \u001b[39m# we by definition only have the 0th axis\u001b[39;00m\n",
      "File \u001b[1;32mc:\\ProgramData\\anaconda3\\Lib\\site-packages\\pandas\\core\\frame.py:3877\u001b[0m, in \u001b[0;36mDataFrame._get_value\u001b[1;34m(self, index, col, takeable)\u001b[0m\n\u001b[0;32m   3871\u001b[0m engine \u001b[39m=\u001b[39m \u001b[39mself\u001b[39m\u001b[39m.\u001b[39mindex\u001b[39m.\u001b[39m_engine\n\u001b[0;32m   3873\u001b[0m \u001b[39mif\u001b[39;00m \u001b[39mnot\u001b[39;00m \u001b[39misinstance\u001b[39m(\u001b[39mself\u001b[39m\u001b[39m.\u001b[39mindex, MultiIndex):\n\u001b[0;32m   3874\u001b[0m     \u001b[39m# CategoricalIndex: Trying to use the engine fastpath may give incorrect\u001b[39;00m\n\u001b[0;32m   3875\u001b[0m     \u001b[39m#  results if our categories are integers that dont match our codes\u001b[39;00m\n\u001b[0;32m   3876\u001b[0m     \u001b[39m# IntervalIndex: IntervalTree has no get_loc\u001b[39;00m\n\u001b[1;32m-> 3877\u001b[0m     row \u001b[39m=\u001b[39m \u001b[39mself\u001b[39m\u001b[39m.\u001b[39mindex\u001b[39m.\u001b[39mget_loc(index)\n\u001b[0;32m   3878\u001b[0m     \u001b[39mreturn\u001b[39;00m series\u001b[39m.\u001b[39m_values[row]\n\u001b[0;32m   3880\u001b[0m \u001b[39m# For MultiIndex going through engine effectively restricts us to\u001b[39;00m\n\u001b[0;32m   3881\u001b[0m \u001b[39m#  same-length tuples; see test_get_set_value_no_partial_indexing\u001b[39;00m\n",
      "File \u001b[1;32mc:\\ProgramData\\anaconda3\\Lib\\site-packages\\pandas\\core\\indexes\\base.py:3655\u001b[0m, in \u001b[0;36mIndex.get_loc\u001b[1;34m(self, key)\u001b[0m\n\u001b[0;32m   3653\u001b[0m     \u001b[39mreturn\u001b[39;00m \u001b[39mself\u001b[39m\u001b[39m.\u001b[39m_engine\u001b[39m.\u001b[39mget_loc(casted_key)\n\u001b[0;32m   3654\u001b[0m \u001b[39mexcept\u001b[39;00m \u001b[39mKeyError\u001b[39;00m \u001b[39mas\u001b[39;00m err:\n\u001b[1;32m-> 3655\u001b[0m     \u001b[39mraise\u001b[39;00m \u001b[39mKeyError\u001b[39;00m(key) \u001b[39mfrom\u001b[39;00m \u001b[39merr\u001b[39;00m\n\u001b[0;32m   3656\u001b[0m \u001b[39mexcept\u001b[39;00m \u001b[39mTypeError\u001b[39;00m:\n\u001b[0;32m   3657\u001b[0m     \u001b[39m# If we have a listlike key, _check_indexing_error will raise\u001b[39;00m\n\u001b[0;32m   3658\u001b[0m     \u001b[39m#  InvalidIndexError. Otherwise we fall through and re-raise\u001b[39;00m\n\u001b[0;32m   3659\u001b[0m     \u001b[39m#  the TypeError.\u001b[39;00m\n\u001b[0;32m   3660\u001b[0m     \u001b[39mself\u001b[39m\u001b[39m.\u001b[39m_check_indexing_error(key)\n",
      "\u001b[1;31mKeyError\u001b[0m: 1"
     ]
    }
   ],
   "source": [
    "\"\"\"\n",
    "    03 - Algoritmo de estandarización\n",
    "\"\"\"\n",
    "recode2019 = pd.read_json('recodes/recode2019.json')\n",
    "recode2020 = pd.read_json('recodes/recode2020.json')\n",
    "recode2021 = pd.read_json('recodes/recode2021.json')\n",
    "\n",
    "claves_a_comparar = [i for i in range(1, 457)] \n",
    "claves_y_valores_diferentes = []\n",
    "\n",
    "# Realiza la comparación recursiva\n",
    "for clave in claves_a_comparar:\n",
    "    valor_df1 = recode2019.loc[clave, \"358_cause_recode\"]\n",
    "    valor_df2 = recode2020.loc[clave, \"358_cause_recode\"]\n",
    "    valor_df3 = recode2021.loc[clave, \"358_cause_recode\"]\n",
    "\n",
    "    if valor_df1 != valor_df2 or valor_df1 != valor_df3 or valor_df2 != valor_df3:\n",
    "        claves_y_valores_diferentes.append((clave, valor_df1, valor_df2, valor_df3))\n",
    "\n",
    "# Muestra las claves con valores diferentes y sus valores respectivos\n",
    "if claves_y_valores_diferentes:\n",
    "    print(\"Las claves con valores diferentes son:\")\n",
    "    for clave, valor_df1, valor_df2, valor_df3 in claves_y_valores_diferentes:\n",
    "        print(f\"Clave: {clave}, Valor en df1: {valor_df1}, Valor en df2: {valor_df2}, Valor en df3: {valor_df3}\")\n",
    "else:\n",
    "    print(\"Todos los valores son iguales para las claves '1' a '456' en los tres DataFrames.\")"
   ]
  },
  {
   "cell_type": "code",
   "execution_count": 4,
   "metadata": {},
   "outputs": [
    {
     "name": "stdout",
     "output_type": "stream",
     "text": [
      "Totales de muertes para los años procesados: 6251801\n",
      "Consolidado de frecuencias por enfermedad almacenado exitosamente\n"
     ]
    }
   ],
   "source": [
    "\"\"\"\n",
    "    04 - Algoritmo de consolidación y agrupación final\n",
    "    \n",
    "    Objetivo:\n",
    "    *) En los pasos previos, hemos obtenido los datasets que representan las frecuencias de las enfermedades de un\n",
    "       año determinado para nuestras columnas de interes (Genero, Edad, Raza, Enfermedad), este paso simplemente busca\n",
    "       consolidar en un archivo el resultado de las frecuencias de cada uno de los años de estudio\n",
    "\"\"\"\n",
    "carpeta_inicial = RUTA_DATASET_FRECUENCIA_GRUPOS\n",
    "carpeta_destino = RUTA_DATASET_GRUPOS_CONSOLIDADO\n",
    "columnas_interes = COLUMNAS_GRUPOS_INTERES\n",
    "archivos_convertir = os.listdir(carpeta_inicial)\n",
    "\n",
    "primer_archivo = True\n",
    "df_grupos_consolidado = \"\"\n",
    "count = 0\n",
    "\n",
    "for archivo in archivos_convertir:\n",
    "    if (primer_archivo):\n",
    "        df_grupos_consolidado = pd.read_csv(carpeta_inicial + archivo)\n",
    "        primer_archivo = False\n",
    "    else:\n",
    "        df_grupo_anio = pd.read_csv(carpeta_inicial + archivo)\n",
    "        df_grupos_consolidado = pd.concat([df_grupos_consolidado, df_grupo_anio], axis=0, ignore_index=True)\n",
    "\n",
    "# Almacenando consolidado final de enfermedades por anio\n",
    "df_grupos_consolidado.to_csv(carpeta_destino + NOMBRE_ARCHIVO_CONSOLIDADO_FREC_GRUPO, index=False)\n",
    "count = df_grupos_consolidado[COLUMNA_TOTAL].sum()\n",
    "print(\"Totales de muertes para los años procesados: \" + str(count))\n",
    "print(\"Consolidado de frecuencias por enfermedad almacenado exitosamente\")"
   ]
  },
  {
   "cell_type": "code",
   "execution_count": 5,
   "metadata": {},
   "outputs": [
    {
     "ename": "KeyError",
     "evalue": "'358_cause_recode'",
     "output_type": "error",
     "traceback": [
      "\u001b[1;31m---------------------------------------------------------------------------\u001b[0m",
      "\u001b[1;31mKeyError\u001b[0m                                  Traceback (most recent call last)",
      "File \u001b[1;32mc:\\ProgramData\\anaconda3\\Lib\\site-packages\\pandas\\core\\indexes\\base.py:3653\u001b[0m, in \u001b[0;36mIndex.get_loc\u001b[1;34m(self, key)\u001b[0m\n\u001b[0;32m   3652\u001b[0m \u001b[39mtry\u001b[39;00m:\n\u001b[1;32m-> 3653\u001b[0m     \u001b[39mreturn\u001b[39;00m \u001b[39mself\u001b[39m\u001b[39m.\u001b[39m_engine\u001b[39m.\u001b[39mget_loc(casted_key)\n\u001b[0;32m   3654\u001b[0m \u001b[39mexcept\u001b[39;00m \u001b[39mKeyError\u001b[39;00m \u001b[39mas\u001b[39;00m err:\n",
      "File \u001b[1;32mc:\\ProgramData\\anaconda3\\Lib\\site-packages\\pandas\\_libs\\index.pyx:147\u001b[0m, in \u001b[0;36mpandas._libs.index.IndexEngine.get_loc\u001b[1;34m()\u001b[0m\n",
      "File \u001b[1;32mc:\\ProgramData\\anaconda3\\Lib\\site-packages\\pandas\\_libs\\index.pyx:176\u001b[0m, in \u001b[0;36mpandas._libs.index.IndexEngine.get_loc\u001b[1;34m()\u001b[0m\n",
      "File \u001b[1;32mpandas\\_libs\\hashtable_class_helper.pxi:7080\u001b[0m, in \u001b[0;36mpandas._libs.hashtable.PyObjectHashTable.get_item\u001b[1;34m()\u001b[0m\n",
      "File \u001b[1;32mpandas\\_libs\\hashtable_class_helper.pxi:7088\u001b[0m, in \u001b[0;36mpandas._libs.hashtable.PyObjectHashTable.get_item\u001b[1;34m()\u001b[0m\n",
      "\u001b[1;31mKeyError\u001b[0m: '358_cause_recode'",
      "\nThe above exception was the direct cause of the following exception:\n",
      "\u001b[1;31mKeyError\u001b[0m                                  Traceback (most recent call last)",
      "\u001b[1;32mc:\\Users\\JRG\\Documents\\diplomado\\Proyecto\\Proyecto.ipynb Cell 6\u001b[0m line \u001b[0;36m7\n\u001b[0;32m     <a href='vscode-notebook-cell:/c%3A/Users/JRG/Documents/diplomado/Proyecto/Proyecto.ipynb#W5sZmlsZQ%3D%3D?line=73'>74</a>\u001b[0m raza \u001b[39m=\u001b[39m \u001b[39m1\u001b[39m\n\u001b[0;32m     <a href='vscode-notebook-cell:/c%3A/Users/JRG/Documents/diplomado/Proyecto/Proyecto.ipynb#W5sZmlsZQ%3D%3D?line=74'>75</a>\u001b[0m enfermedad \u001b[39m=\u001b[39m \u001b[39m175\u001b[39m\n\u001b[1;32m---> <a href='vscode-notebook-cell:/c%3A/Users/JRG/Documents/diplomado/Proyecto/Proyecto.ipynb#W5sZmlsZQ%3D%3D?line=76'>77</a>\u001b[0m resultado \u001b[39m=\u001b[39m probabilidad_muerte(df_frecuencias_enfermedades_total, genero, rango_edad, raza, enfermedad)\n\u001b[0;32m     <a href='vscode-notebook-cell:/c%3A/Users/JRG/Documents/diplomado/Proyecto/Proyecto.ipynb#W5sZmlsZQ%3D%3D?line=77'>78</a>\u001b[0m \u001b[39mprint\u001b[39m(\u001b[39m\"\u001b[39m\u001b[39mProbabilidad de que la persona muera por la enfermedad (\u001b[39m\u001b[39m%\u001b[39m\u001b[39m): \u001b[39m\u001b[39m\"\u001b[39m \u001b[39m+\u001b[39m \u001b[39mstr\u001b[39m(resultado\u001b[39m*\u001b[39m\u001b[39m100\u001b[39m))\n\u001b[0;32m     <a href='vscode-notebook-cell:/c%3A/Users/JRG/Documents/diplomado/Proyecto/Proyecto.ipynb#W5sZmlsZQ%3D%3D?line=78'>79</a>\u001b[0m \u001b[39mprint\u001b[39m(\u001b[39m\"\u001b[39m\u001b[39mTotal de muertes por todos los datasets: \u001b[39m\u001b[39m\"\u001b[39m \u001b[39m+\u001b[39m \u001b[39mstr\u001b[39m(df_frecuencias_enfermedades_total[COLUMNA_TOTAL]\u001b[39m.\u001b[39msum()))\n",
      "\u001b[1;32mc:\\Users\\JRG\\Documents\\diplomado\\Proyecto\\Proyecto.ipynb Cell 6\u001b[0m line \u001b[0;36m4\n\u001b[0;32m     <a href='vscode-notebook-cell:/c%3A/Users/JRG/Documents/diplomado/Proyecto/Proyecto.ipynb#W5sZmlsZQ%3D%3D?line=29'>30</a>\u001b[0m grupo_interes \u001b[39m=\u001b[39m df[\n\u001b[0;32m     <a href='vscode-notebook-cell:/c%3A/Users/JRG/Documents/diplomado/Proyecto/Proyecto.ipynb#W5sZmlsZQ%3D%3D?line=30'>31</a>\u001b[0m     (df[\u001b[39m\"\u001b[39m\u001b[39msex\u001b[39m\u001b[39m\"\u001b[39m] \u001b[39m==\u001b[39m v_genero) \n\u001b[0;32m     <a href='vscode-notebook-cell:/c%3A/Users/JRG/Documents/diplomado/Proyecto/Proyecto.ipynb#W5sZmlsZQ%3D%3D?line=31'>32</a>\u001b[0m     \u001b[39m&\u001b[39m (df[\u001b[39m\"\u001b[39m\u001b[39mager52\u001b[39m\u001b[39m\"\u001b[39m] \u001b[39m==\u001b[39m v_rango_edad) \n\u001b[0;32m     <a href='vscode-notebook-cell:/c%3A/Users/JRG/Documents/diplomado/Proyecto/Proyecto.ipynb#W5sZmlsZQ%3D%3D?line=32'>33</a>\u001b[0m     \u001b[39m&\u001b[39m (df[\u001b[39m\"\u001b[39m\u001b[39mrace\u001b[39m\u001b[39m\"\u001b[39m] \u001b[39m==\u001b[39m v_raza)\n\u001b[0;32m     <a href='vscode-notebook-cell:/c%3A/Users/JRG/Documents/diplomado/Proyecto/Proyecto.ipynb#W5sZmlsZQ%3D%3D?line=33'>34</a>\u001b[0m     \u001b[39m&\u001b[39m (df[\u001b[39m\"\u001b[39m\u001b[39mucr358\u001b[39m\u001b[39m\"\u001b[39m] \u001b[39m==\u001b[39m v_enfermedad)]\n\u001b[0;32m     <a href='vscode-notebook-cell:/c%3A/Users/JRG/Documents/diplomado/Proyecto/Proyecto.ipynb#W5sZmlsZQ%3D%3D?line=35'>36</a>\u001b[0m \u001b[39mif\u001b[39;00m (\u001b[39mnot\u001b[39;00m grupo_interes\u001b[39m.\u001b[39mempty):\n\u001b[0;32m     <a href='vscode-notebook-cell:/c%3A/Users/JRG/Documents/diplomado/Proyecto/Proyecto.ipynb#W5sZmlsZQ%3D%3D?line=36'>37</a>\u001b[0m     \u001b[39m# Paso 2: ya que encontramos al grupo que pertenece, determinamos en total para el genero, las personas\u001b[39;00m\n\u001b[0;32m     <a href='vscode-notebook-cell:/c%3A/Users/JRG/Documents/diplomado/Proyecto/Proyecto.ipynb#W5sZmlsZQ%3D%3D?line=37'>38</a>\u001b[0m     \u001b[39m#           que mueren, para conocer la probabilidad que dicha persona podria morir, dada las condiciones\u001b[39;00m\n\u001b[0;32m     <a href='vscode-notebook-cell:/c%3A/Users/JRG/Documents/diplomado/Proyecto/Proyecto.ipynb#W5sZmlsZQ%3D%3D?line=38'>39</a>\u001b[0m     \n\u001b[0;32m     <a href='vscode-notebook-cell:/c%3A/Users/JRG/Documents/diplomado/Proyecto/Proyecto.ipynb#W5sZmlsZQ%3D%3D?line=39'>40</a>\u001b[0m     \u001b[39m# determinando el numero de personas muertas para un genero dado, para una enfermedad dada\u001b[39;00m\n\u001b[1;32m---> <a href='vscode-notebook-cell:/c%3A/Users/JRG/Documents/diplomado/Proyecto/Proyecto.ipynb#W5sZmlsZQ%3D%3D?line=40'>41</a>\u001b[0m     grupo_total \u001b[39m=\u001b[39m df[(df[\u001b[39m\"\u001b[39m\u001b[39msex\u001b[39m\u001b[39m\"\u001b[39m] \u001b[39m==\u001b[39m genero) \u001b[39m&\u001b[39m (df[\u001b[39m\"\u001b[39m\u001b[39m358_cause_recode\u001b[39m\u001b[39m\"\u001b[39m] \u001b[39m==\u001b[39m enfermedad)]\n\u001b[0;32m     <a href='vscode-notebook-cell:/c%3A/Users/JRG/Documents/diplomado/Proyecto/Proyecto.ipynb#W5sZmlsZQ%3D%3D?line=42'>43</a>\u001b[0m     total_muertes \u001b[39m=\u001b[39m grupo_total[COLUMNA_TOTAL]\u001b[39m.\u001b[39msum()\n\u001b[0;32m     <a href='vscode-notebook-cell:/c%3A/Users/JRG/Documents/diplomado/Proyecto/Proyecto.ipynb#W5sZmlsZQ%3D%3D?line=43'>44</a>\u001b[0m     muertes_grupo_interes \u001b[39m=\u001b[39m grupo_interes[COLUMNA_TOTAL]\u001b[39m.\u001b[39msum()\n",
      "File \u001b[1;32mc:\\ProgramData\\anaconda3\\Lib\\site-packages\\pandas\\core\\frame.py:3761\u001b[0m, in \u001b[0;36mDataFrame.__getitem__\u001b[1;34m(self, key)\u001b[0m\n\u001b[0;32m   3759\u001b[0m \u001b[39mif\u001b[39;00m \u001b[39mself\u001b[39m\u001b[39m.\u001b[39mcolumns\u001b[39m.\u001b[39mnlevels \u001b[39m>\u001b[39m \u001b[39m1\u001b[39m:\n\u001b[0;32m   3760\u001b[0m     \u001b[39mreturn\u001b[39;00m \u001b[39mself\u001b[39m\u001b[39m.\u001b[39m_getitem_multilevel(key)\n\u001b[1;32m-> 3761\u001b[0m indexer \u001b[39m=\u001b[39m \u001b[39mself\u001b[39m\u001b[39m.\u001b[39mcolumns\u001b[39m.\u001b[39mget_loc(key)\n\u001b[0;32m   3762\u001b[0m \u001b[39mif\u001b[39;00m is_integer(indexer):\n\u001b[0;32m   3763\u001b[0m     indexer \u001b[39m=\u001b[39m [indexer]\n",
      "File \u001b[1;32mc:\\ProgramData\\anaconda3\\Lib\\site-packages\\pandas\\core\\indexes\\base.py:3655\u001b[0m, in \u001b[0;36mIndex.get_loc\u001b[1;34m(self, key)\u001b[0m\n\u001b[0;32m   3653\u001b[0m     \u001b[39mreturn\u001b[39;00m \u001b[39mself\u001b[39m\u001b[39m.\u001b[39m_engine\u001b[39m.\u001b[39mget_loc(casted_key)\n\u001b[0;32m   3654\u001b[0m \u001b[39mexcept\u001b[39;00m \u001b[39mKeyError\u001b[39;00m \u001b[39mas\u001b[39;00m err:\n\u001b[1;32m-> 3655\u001b[0m     \u001b[39mraise\u001b[39;00m \u001b[39mKeyError\u001b[39;00m(key) \u001b[39mfrom\u001b[39;00m \u001b[39merr\u001b[39;00m\n\u001b[0;32m   3656\u001b[0m \u001b[39mexcept\u001b[39;00m \u001b[39mTypeError\u001b[39;00m:\n\u001b[0;32m   3657\u001b[0m     \u001b[39m# If we have a listlike key, _check_indexing_error will raise\u001b[39;00m\n\u001b[0;32m   3658\u001b[0m     \u001b[39m#  InvalidIndexError. Otherwise we fall through and re-raise\u001b[39;00m\n\u001b[0;32m   3659\u001b[0m     \u001b[39m#  the TypeError.\u001b[39;00m\n\u001b[0;32m   3660\u001b[0m     \u001b[39mself\u001b[39m\u001b[39m.\u001b[39m_check_indexing_error(key)\n",
      "\u001b[1;31mKeyError\u001b[0m: '358_cause_recode'"
     ]
    }
   ],
   "source": [
    "\"\"\"\n",
    "    05 - Algoritmo de análisis\n",
    "\n",
    "    Objetivo:\n",
    "    *) Ahora que ya tenemos las frecuencias de muerte para cada grupo, procedemos a ejecutar el algoritmo de probabilidad\n",
    "       de muerte de una persona por una enfermedad, el algoritmo es el siguiente:\n",
    "    \n",
    "    P(muerte persona, dada [ENTRADA]) =     # de personas que han muerto dada [ENTRADA]\n",
    "                                        ---------------------------------------------------\n",
    "                                        # de personas que han muerto para el [GENERO] dado\n",
    "\n",
    "    Entrada:\n",
    "    *) Genero\n",
    "    *) Rango de edad\n",
    "    *) Raza\n",
    "    *) Enfermedad\n",
    "\"\"\"\n",
    "\n",
    "carpeta_inicial = RUTA_DATASET_GRUPOS_CONSOLIDADO\n",
    "carpeta_destino = RUTA_DATASET_TOTALES_ENFERMEDADES\n",
    "columnas_interes = COLUMNAS_INICIALES_INTERES\n",
    "archivo_entrada = NOMBRE_ARCHIVO_CONSOLIDADO_FREC_GRUPO\n",
    "archivo_salida = NOMBRE_ARCHIVO_CONSOLIDADO_TOTALES\n",
    "\n",
    "\"\"\"\n",
    "    FUNCION CALCULADORA DE PROBABILIDAD DE MUERTE\n",
    "\"\"\"\n",
    "def probabilidad_muerte(df, v_genero, v_rango_edad, v_raza, v_enfermedad):\n",
    "    # Paso 1: Chequear si tenemos la cantidad de personas muertas, dada las variables de entrada\n",
    "    grupo_interes = df[\n",
    "        (df[\"sex\"] == v_genero) \n",
    "        & (df[\"ager52\"] == v_rango_edad) \n",
    "        & (df[\"race\"] == v_raza)\n",
    "        & (df[\"ucr358\"] == v_enfermedad)]\n",
    "    \n",
    "    if (not grupo_interes.empty):\n",
    "        # Paso 2: ya que encontramos al grupo que pertenece, determinamos en total para el genero, las personas\n",
    "        #           que mueren, para conocer la probabilidad que dicha persona podria morir, dada las condiciones\n",
    "        \n",
    "        # determinando el numero de personas muertas para un genero dado, para una enfermedad dada\n",
    "        grupo_total = df[(df[\"sex\"] == genero) & (df[\"ucr358\"] == enfermedad)]\n",
    "        \n",
    "        total_muertes = grupo_total[COLUMNA_TOTAL].sum()\n",
    "        muertes_grupo_interes = grupo_interes[COLUMNA_TOTAL].sum()\n",
    "\n",
    "        # Print para propositos de debugging\n",
    "        print(\"Numero de muertes para la enfermedad entre todos los \" +  genero + \" :\" + str(total_muertes))\n",
    "        print(\"Numero de muertes para el grupo al que pertenece la persona: \" +  str(muertes_grupo_interes))\n",
    "        print(\"Probabilidad de que la persona muera: \" + str(muertes_grupo_interes/total_muertes))\n",
    "        print(\"\")\n",
    "\n",
    "        return muertes_grupo_interes/total_muertes\n",
    "    else:\n",
    "        # -1 = data no fue encontrada para el grupo de interes\n",
    "        return -1\n",
    "    \n",
    "\n",
    "\"\"\"\n",
    "    Codigo ejecucion\n",
    "\"\"\"\n",
    "\n",
    "# Paso 1: Cargamos el dataset, y lo reagrupamos de tal manera que, se sumen la columna \"count\" para obtener el total\n",
    "#         de muertos por enfermedad para cada grupo de interes\n",
    "df_frecuencias_enfermedades_anio = pd.read_csv(carpeta_inicial + archivo_entrada)\n",
    "df_frecuencias_enfermedades_total = df_frecuencias_enfermedades_anio.groupby(columnas_interes)[COLUMNA_TOTAL].sum().reset_index().sort_values(by = [COLUMNA_TOTAL])\n",
    "df_frecuencias_enfermedades_total.to_csv(carpeta_destino + archivo_salida, index = False)\n",
    "\n",
    "\n",
    "# Paso 2: Calculamos las probabilidades para las enfermedades\n",
    "\n",
    "# Variables de entrada\n",
    "genero = \"F\"\n",
    "rango_edad = 44\n",
    "raza = 1\n",
    "enfermedad = 175\n",
    "\n",
    "resultado = probabilidad_muerte(df_frecuencias_enfermedades_total, genero, rango_edad, raza, enfermedad)\n",
    "print(\"Probabilidad de que la persona muera por la enfermedad (%): \" + str(resultado*100))\n",
    "print(\"Total de muertes por todos los datasets: \" + str(df_frecuencias_enfermedades_total[COLUMNA_TOTAL].sum()))\n"
   ]
  }
 ],
 "metadata": {
  "kernelspec": {
   "display_name": "Python 3 (ipykernel)",
   "language": "python",
   "name": "python3"
  },
  "language_info": {
   "codemirror_mode": {
    "name": "ipython",
    "version": 3
   },
   "file_extension": ".py",
   "mimetype": "text/x-python",
   "name": "python",
   "nbconvert_exporter": "python",
   "pygments_lexer": "ipython3",
   "version": "3.11.5"
  }
 },
 "nbformat": 4,
 "nbformat_minor": 5
}
