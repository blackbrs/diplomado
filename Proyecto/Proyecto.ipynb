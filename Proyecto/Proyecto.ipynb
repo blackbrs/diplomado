{
 "cells": [
  {
   "cell_type": "code",
   "execution_count": 115,
   "metadata": {},
   "outputs": [],
   "source": [
    "\"\"\"\n",
    "    Apartado de importaciones y preparaciones iniciales\n",
    "\"\"\"\n",
    "import pandas as pd\n",
    "import os\n",
    "\n",
    "RUTA_DATASET_INICIAL = \"datasets/\"\n",
    "RUTA_DATASET_LIMPIADO = \"01_dataset_limpiado/\"\n",
    "RUTA_DATASET_FRECUENCIA_GRUPOS = \"02_frecuencia_grupos/\"\n",
    "RUTA_DATASET_GRUPOS_CONSOLIDADO = \"04_consolidado_grupos/\"\n",
    "RUTA_DATASET_TOTALES_ENFERMEDADES = \"05_frecuencias_totales/\"\n",
    "\n",
    "COLUMNAS_INICIALES_INTERES = [\"358_cause_recode\", \"sex\", \"age_recode_52\", \"race\"]\n",
    "COLUMNAS_GRUPOS_INTERES = [\"358_cause_recode\", \"sex\", \"age_recode_52\", \"race\", \"count\", \"year\"]\n",
    "\n",
    "NOMBRE_ARCHIVO_CONSOLIDADO_FREC_GRUPO = \"frecuencia_grupos_enfermedades.csv\"\n",
    "NOMBRE_ARCHIVO_CONSOLIDADO_TOTALES = \"recuencias_grupos_enfermedades_total.csv\"\n",
    "\n",
    "COLUMNA_TOTAL = \"count\"\n",
    "\n",
    "# Creando directorios en caso no se encuentren en el root\n",
    "if(not os.path.exists(RUTA_DATASET_INICIAL)): os.makedirs(RUTA_DATASET_INICIAL)\n",
    "if(not os.path.exists(RUTA_DATASET_LIMPIADO)): os.makedirs(RUTA_DATASET_LIMPIADO)\n",
    "if(not os.path.exists(RUTA_DATASET_FRECUENCIA_GRUPOS)): os.makedirs(RUTA_DATASET_FRECUENCIA_GRUPOS)\n",
    "if(not os.path.exists(RUTA_DATASET_GRUPOS_CONSOLIDADO)): os.makedirs(RUTA_DATASET_GRUPOS_CONSOLIDADO)\n",
    "if(not os.path.exists(RUTA_DATASET_TOTALES_ENFERMEDADES)): os.makedirs(RUTA_DATASET_TOTALES_ENFERMEDADES)"
   ]
  },
  {
   "cell_type": "code",
   "execution_count": 116,
   "id": "975c35a6",
   "metadata": {},
   "outputs": [
    {
     "name": "stdout",
     "output_type": "stream",
     "text": [
      "Convirtiendo: 2014.csv\n"
     ]
    },
    {
     "name": "stderr",
     "output_type": "stream",
     "text": [
      "C:\\Users\\JRG\\AppData\\Local\\Temp\\ipykernel_25816\\3170342760.py:15: DtypeWarning: Columns (39,40,41,42,43,60,61,62,63) have mixed types. Specify dtype option on import or set low_memory=False.\n",
      "  df_muertes = pd.read_csv(carpeta_inicial + archivo)\n"
     ]
    },
    {
     "name": "stdout",
     "output_type": "stream",
     "text": [
      "Dataset almacenado\n",
      "Convirtiendo: 2015.csv\n"
     ]
    },
    {
     "name": "stderr",
     "output_type": "stream",
     "text": [
      "C:\\Users\\JRG\\AppData\\Local\\Temp\\ipykernel_25816\\3170342760.py:15: DtypeWarning: Columns (40,41,42,43,61,62,63,64) have mixed types. Specify dtype option on import or set low_memory=False.\n",
      "  df_muertes = pd.read_csv(carpeta_inicial + archivo)\n"
     ]
    },
    {
     "name": "stdout",
     "output_type": "stream",
     "text": [
      "Dataset almacenado\n"
     ]
    }
   ],
   "source": [
    "\"\"\"\n",
    "    01 - Algoritmo de limpiado y extraccion\n",
    "\n",
    "    Objetivo:\n",
    "    *) En base a los datasets iniciales, que cuentan con columnas innecesarias que se no se ocuparan en la investigacion\n",
    "       el algoritmo de limpiado y extraccion busca guardar los datasets, solo con las columnas que se buscan estudiar\n",
    "\"\"\"\n",
    "carpeta_inicial = RUTA_DATASET_INICIAL\n",
    "carpeta_destino = RUTA_DATASET_LIMPIADO\n",
    "columnas_interes = COLUMNAS_INICIALES_INTERES\n",
    "archivos_convertir = os.listdir(carpeta_inicial)\n",
    "\n",
    "for archivo in archivos_convertir:\n",
    "    print(\"Convirtiendo: \" + archivo)\n",
    "    df_muertes = pd.read_csv(carpeta_inicial + archivo)\n",
    "    df_resumido = df_muertes[columnas_interes]\n",
    "    df_resumido.to_csv(carpeta_destino + archivo, index=False)\n",
    "    print(\"Dataset almacenado\")"
   ]
  },
  {
   "cell_type": "code",
   "execution_count": 117,
   "id": "2b8a3dd7",
   "metadata": {},
   "outputs": [
    {
     "name": "stdout",
     "output_type": "stream",
     "text": [
      "Procesando agrupaciones para: 2014.csv\n",
      "Totales de muertes en el año: 2631171\n",
      "Agrupaciones almacenadas\n",
      "Procesando agrupaciones para: 2015.csv\n",
      "Totales de muertes en el año: 2718198\n",
      "Agrupaciones almacenadas\n"
     ]
    }
   ],
   "source": [
    "\"\"\"\n",
    "    02 - Algoritmo de agrupamiento\n",
    "\n",
    "    Objetivo:\n",
    "    *) En el paso anterior se realizó el proceso de extraccion y limpiado de datos para cada uno de los años \n",
    "       que se buscan estudiar, para este paso se busca saber la frecuencia de los grupos de interes, en este\n",
    "       caso un grupo esta formado por:\n",
    "\n",
    "        -> Genero\n",
    "        -> Edad\n",
    "        -> Raza\n",
    "        -> Enfermedad\n",
    "\"\"\"\n",
    "\n",
    "carpeta_inicial = RUTA_DATASET_LIMPIADO\n",
    "carpeta_destino = RUTA_DATASET_FRECUENCIA_GRUPOS\n",
    "columnas_interes = COLUMNAS_INICIALES_INTERES\n",
    "archivos_convertir = os.listdir(carpeta_inicial)\n",
    "\n",
    "count = 0\n",
    "\n",
    "for archivo in archivos_convertir:\n",
    "    print(\"Procesando agrupaciones para: \" + archivo)\n",
    "    df_muertes = pd.read_csv(carpeta_inicial + archivo)\n",
    "    grupo = df_muertes.groupby(columnas_interes).size().sort_values(ascending=False)\n",
    "    df_agrupado = grupo.reset_index().rename(columns = { 0: COLUMNA_TOTAL }).sort_values(by = columnas_interes)\n",
    "    # Agregando el año de todas las filas (para distinguir el año de procedencia de la data)\n",
    "    df_agrupado[\"year\"] = int(archivo.split(\".\")[0])\n",
    "    df_agrupado.to_csv(carpeta_destino + archivo, index=False)\n",
    "    count = df_agrupado[COLUMNA_TOTAL].sum()\n",
    "    print(\"Totales de muertes en el año: \" + str(count))\n",
    "    print(\"Agrupaciones almacenadas\")"
   ]
  },
  {
   "cell_type": "code",
   "execution_count": null,
   "metadata": {},
   "outputs": [],
   "source": [
    "\"\"\"\n",
    "    03 - Algoritmo de estandarización\n",
    "\"\"\""
   ]
  },
  {
   "cell_type": "code",
   "execution_count": 118,
   "metadata": {},
   "outputs": [
    {
     "name": "stdout",
     "output_type": "stream",
     "text": [
      "Totales de muertes para los años procesados: 5349369\n",
      "Consolidado de frecuencias por enfermedad almacenado exitosamente\n"
     ]
    }
   ],
   "source": [
    "\"\"\"\n",
    "    04 - Algoritmo de consolidación y agrupación final\n",
    "    \n",
    "    Objetivo:\n",
    "    *) En los pasos previos, hemos obtenido los datasets que representan las frecuencias de las enfermedades de un\n",
    "       año determinado para nuestras columnas de interes (Genero, Edad, Raza, Enfermedad), este paso simplemente busca\n",
    "       consolidar en un archivo el resultado de las frecuencias de cada uno de los años de estudio\n",
    "\"\"\"\n",
    "carpeta_inicial = RUTA_DATASET_FRECUENCIA_GRUPOS\n",
    "carpeta_destino = RUTA_DATASET_GRUPOS_CONSOLIDADO\n",
    "columnas_interes = COLUMNAS_GRUPOS_INTERES\n",
    "archivos_convertir = os.listdir(carpeta_inicial)\n",
    "\n",
    "primer_archivo = True\n",
    "df_grupos_consolidado = \"\"\n",
    "count = 0\n",
    "\n",
    "for archivo in archivos_convertir:\n",
    "    if (primer_archivo):\n",
    "        df_grupos_consolidado = pd.read_csv(carpeta_inicial + archivo)\n",
    "        primer_archivo = False\n",
    "    else:\n",
    "        df_grupo_anio = pd.read_csv(carpeta_inicial + archivo)\n",
    "        df_grupos_consolidado = pd.concat([df_grupos_consolidado, df_grupo_anio], axis=0, ignore_index=True)\n",
    "\n",
    "# Almacenando consolidado final de enfermedades por anio\n",
    "df_grupos_consolidado.to_csv(carpeta_destino + NOMBRE_ARCHIVO_CONSOLIDADO_FREC_GRUPO, index=False)\n",
    "count = df_grupos_consolidado[COLUMNA_TOTAL].sum()\n",
    "print(\"Totales de muertes para los años procesados: \" + str(count))\n",
    "print(\"Consolidado de frecuencias por enfermedad almacenado exitosamente\")"
   ]
  },
  {
   "cell_type": "code",
   "execution_count": 119,
   "metadata": {},
   "outputs": [
    {
     "name": "stdout",
     "output_type": "stream",
     "text": [
      "Numero de muertes para la enfermedad entre todos los F :174121\n",
      "Numero de muertes para el grupo al que pertenece la persona: 46043\n",
      "Probabilidad de que la persona muera: 0.2644310565641135\n",
      "\n",
      "Probabilidad de que la persona muera por la enfermedad (%): 26.443105656411348\n",
      "Total de muertes por todos los datasets: 5349369\n"
     ]
    }
   ],
   "source": [
    "\"\"\"\n",
    "    05 - Algoritmo de análisis\n",
    "\n",
    "    Objetivo:\n",
    "    *) Ahora que ya tenemos las frecuencias de muerte para cada grupo, procedemos a ejecutar el algoritmo de probabilidad\n",
    "       de muerte de una persona por una enfermedad, el algoritmo es el siguiente:\n",
    "    \n",
    "    P(muerte persona, dada [ENTRADA]) =     # de personas que han muerto dada [ENTRADA]\n",
    "                                        ---------------------------------------------------\n",
    "                                        # de personas que han muerto para el [GENERO] dado\n",
    "\n",
    "    Entrada:\n",
    "    *) Genero\n",
    "    *) Rango de edad\n",
    "    *) Raza\n",
    "    *) Enfermedad\n",
    "\"\"\"\n",
    "\n",
    "carpeta_inicial = RUTA_DATASET_GRUPOS_CONSOLIDADO\n",
    "carpeta_destino = RUTA_DATASET_TOTALES_ENFERMEDADES\n",
    "columnas_interes = COLUMNAS_INICIALES_INTERES\n",
    "archivo_entrada = NOMBRE_ARCHIVO_CONSOLIDADO_FREC_GRUPO\n",
    "archivo_salida = NOMBRE_ARCHIVO_CONSOLIDADO_TOTALES\n",
    "\n",
    "\"\"\"\n",
    "    FUNCION CALCULADORA DE PROBABILIDAD DE MUERTE\n",
    "\"\"\"\n",
    "def probabilidad_muerte(df, v_genero, v_rango_edad, v_raza, v_enfermedad):\n",
    "    # Paso 1: Chequear si tenemos la cantidad de personas muertas, dada las variables de entrada\n",
    "    grupo_interes = df[\n",
    "        (df[\"sex\"] == v_genero) \n",
    "        & (df[\"age_recode_52\"] == v_rango_edad) \n",
    "        & (df[\"race\"] == v_raza)\n",
    "        & (df[\"358_cause_recode\"] == v_enfermedad)]\n",
    "    \n",
    "    if (not grupo_interes.empty):\n",
    "        # Paso 2: ya que encontramos al grupo que pertenece, determinamos en total para el genero, las personas\n",
    "        #           que mueren, para conocer la probabilidad que dicha persona podria morir, dada las condiciones\n",
    "        \n",
    "        # determinando el numero de personas muertas para un genero dado, para una enfermedad dada\n",
    "        grupo_total = df[(df[\"sex\"] == genero) & (df[\"358_cause_recode\"] == enfermedad)]\n",
    "        \n",
    "        total_muertes = grupo_total[COLUMNA_TOTAL].sum()\n",
    "        muertes_grupo_interes = grupo_interes[COLUMNA_TOTAL].sum()\n",
    "\n",
    "        # Print para propositos de debugging\n",
    "        print(\"Numero de muertes para la enfermedad entre todos los \" +  genero + \" :\" + str(total_muertes))\n",
    "        print(\"Numero de muertes para el grupo al que pertenece la persona: \" +  str(muertes_grupo_interes))\n",
    "        print(\"Probabilidad de que la persona muera: \" + str(muertes_grupo_interes/total_muertes))\n",
    "        print(\"\")\n",
    "\n",
    "        return muertes_grupo_interes/total_muertes\n",
    "    else:\n",
    "        # -1 = data no fue encontrada para el grupo de interes\n",
    "        return -1\n",
    "    \n",
    "\n",
    "\"\"\"\n",
    "    Codigo ejecucion\n",
    "\"\"\"\n",
    "\n",
    "# Paso 1: Cargamos el dataset, y lo reagrupamos de tal manera que, se sumen la columna \"count\" para obtener el total\n",
    "#         de muertos por enfermedad para cada grupo de interes\n",
    "df_frecuencias_enfermedades_anio = pd.read_csv(carpeta_inicial + archivo_entrada)\n",
    "df_frecuencias_enfermedades_total = df_frecuencias_enfermedades_anio.groupby(columnas_interes)[COLUMNA_TOTAL].sum().reset_index().sort_values(by = [COLUMNA_TOTAL])\n",
    "df_frecuencias_enfermedades_total.to_csv(carpeta_destino + archivo_salida, index = False)\n",
    "\n",
    "\n",
    "# Paso 2: Calculamos las probabilidades para las enfermedades\n",
    "\n",
    "# Variables de entrada\n",
    "genero = \"F\"\n",
    "rango_edad = 44\n",
    "raza = 1\n",
    "enfermedad = 175\n",
    "\n",
    "resultado = probabilidad_muerte(df_frecuencias_enfermedades_total, genero, rango_edad, raza, enfermedad)\n",
    "print(\"Probabilidad de que la persona muera por la enfermedad (%): \" + str(resultado*100))\n",
    "print(\"Total de muertes por todos los datasets: \" + str(df_frecuencias_enfermedades_total[COLUMNA_TOTAL].sum()))\n"
   ]
  }
 ],
 "metadata": {
  "kernelspec": {
   "display_name": "Python 3 (ipykernel)",
   "language": "python",
   "name": "python3"
  },
  "language_info": {
   "codemirror_mode": {
    "name": "ipython",
    "version": 3
   },
   "file_extension": ".py",
   "mimetype": "text/x-python",
   "name": "python",
   "nbconvert_exporter": "python",
   "pygments_lexer": "ipython3",
   "version": "3.11.5"
  }
 },
 "nbformat": 4,
 "nbformat_minor": 5
}
