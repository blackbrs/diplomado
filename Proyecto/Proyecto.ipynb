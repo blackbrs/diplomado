{
 "cells": [
  {
   "cell_type": "code",
   "execution_count": 41,
   "metadata": {},
   "outputs": [],
   "source": [
    "\"\"\"\n",
    "    Apartado de importaciones\n",
    "\"\"\"\n",
    "import pandas as pd\n",
    "import os\n",
    "\n",
    "RUTA_DATASET_INICIAL = \"datasets/\"\n",
    "RUTA_DATASET_LIMPIADO = \"01_dataset_limpiado/\"\n",
    "RUTA_DATASET_FRECUENCIA_GRUPOS = \"02_frecuencia_grupos/\"\n",
    "RUTA_DATASET_GRUPOS_CONSOLIDADO = \"04_consolidado_grupos/\"\n",
    "\n",
    "COLUMNAS_INICIALES_INTERES = [\"358_cause_recode\", \"sex\", \"age_recode_52\", \"race\"]\n",
    "COLUMNAS_GRUPOS_INTERES = [\"358_cause_recode\", \"sex\", \"age_recode_52\", \"race\", \"count\", \"year\"]\n",
    "\n",
    "NOMBRE_ARCHIVO_CONSOLIDADO_FREC_GRUPO = \"frecuencia_grupos_enfermedades.csv\"\n",
    "\n",
    "# Creando directorios en caso no se encuentren en el root\n",
    "if(not os.path.exists(RUTA_DATASET_INICIAL)): os.makedirs(RUTA_DATASET_INICIAL)\n",
    "if(not os.path.exists(RUTA_DATASET_LIMPIADO)): os.makedirs(RUTA_DATASET_LIMPIADO)\n",
    "if(not os.path.exists(RUTA_DATASET_FRECUENCIA_GRUPOS)): os.makedirs(RUTA_DATASET_FRECUENCIA_GRUPOS)\n",
    "if(not os.path.exists(RUTA_DATASET_GRUPOS_CONSOLIDADO)): os.makedirs(RUTA_DATASET_GRUPOS_CONSOLIDADO)"
   ]
  },
  {
   "cell_type": "code",
   "execution_count": 42,
   "id": "975c35a6",
   "metadata": {},
   "outputs": [
    {
     "name": "stdout",
     "output_type": "stream",
     "text": [
      "Convirtiendo: 2014.csv\n"
     ]
    },
    {
     "name": "stderr",
     "output_type": "stream",
     "text": [
      "C:\\Users\\JRG\\AppData\\Local\\Temp\\ipykernel_25816\\3170342760.py:15: DtypeWarning: Columns (39,40,41,42,43,60,61,62,63) have mixed types. Specify dtype option on import or set low_memory=False.\n",
      "  df_muertes = pd.read_csv(carpeta_inicial + archivo)\n"
     ]
    },
    {
     "name": "stdout",
     "output_type": "stream",
     "text": [
      "Dataset almacenado\n",
      "Convirtiendo: 2015.csv\n"
     ]
    },
    {
     "name": "stderr",
     "output_type": "stream",
     "text": [
      "C:\\Users\\JRG\\AppData\\Local\\Temp\\ipykernel_25816\\3170342760.py:15: DtypeWarning: Columns (40,41,42,43,61,62,63,64) have mixed types. Specify dtype option on import or set low_memory=False.\n",
      "  df_muertes = pd.read_csv(carpeta_inicial + archivo)\n"
     ]
    },
    {
     "name": "stdout",
     "output_type": "stream",
     "text": [
      "Dataset almacenado\n"
     ]
    }
   ],
   "source": [
    "\"\"\"\n",
    "    01 - Algoritmo de limpiado y extraccion\n",
    "\n",
    "    Objetivo:\n",
    "    *) En base a los datasets iniciales, que cuentan con columnas innecesarias que se no se ocuparan en la investigacion\n",
    "       el algoritmo de limpiado y extraccion busca guardar los datasets, solo con las columnas que se buscan estudiar\n",
    "\"\"\"\n",
    "carpeta_inicial = RUTA_DATASET_INICIAL\n",
    "carpeta_destino = RUTA_DATASET_LIMPIADO\n",
    "columnas_interes = COLUMNAS_INICIALES_INTERES\n",
    "archivos_convertir = os.listdir(carpeta_inicial)\n",
    "\n",
    "for archivo in archivos_convertir:\n",
    "    print(\"Convirtiendo: \" + archivo)\n",
    "    df_muertes = pd.read_csv(carpeta_inicial + archivo)\n",
    "    df_resumido = df_muertes[columnas_interes]\n",
    "    df_resumido.to_csv(carpeta_destino + archivo, index=False)\n",
    "    print(\"Dataset almacenado\")"
   ]
  },
  {
   "cell_type": "code",
   "execution_count": 43,
   "id": "2b8a3dd7",
   "metadata": {},
   "outputs": [
    {
     "name": "stdout",
     "output_type": "stream",
     "text": [
      "Procesando agrupaciones para: 2014.csv\n",
      "Agrupaciones almacenadas\n",
      "Procesando agrupaciones para: 2015.csv\n",
      "Agrupaciones almacenadas\n"
     ]
    }
   ],
   "source": [
    "\"\"\"\n",
    "    02 - Algoritmo de agrupamiento\n",
    "\n",
    "    Objetivo:\n",
    "    *) En el paso anterior se realizó el proceso de extraccion y limpiado de datos para cada uno de los años \n",
    "       que se buscan estudiar, para este paso se busca saber la frecuencia de los grupos de interes, en este\n",
    "       caso un grupo esta formado por:\n",
    "\n",
    "        -> Genero\n",
    "        -> Edad\n",
    "        -> Raza\n",
    "        -> Enfermedad\n",
    "\"\"\"\n",
    "\n",
    "carpeta_inicial = RUTA_DATASET_LIMPIADO\n",
    "carpeta_destino = RUTA_DATASET_FRECUENCIA_GRUPOS\n",
    "columnas_interes = COLUMNAS_INICIALES_INTERES\n",
    "archivos_convertir = os.listdir(carpeta_inicial)\n",
    "\n",
    "for archivo in archivos_convertir:\n",
    "    print(\"Procesando agrupaciones para: \" + archivo)\n",
    "    df_muertes = pd.read_csv(carpeta_inicial + archivo)\n",
    "    grupo = df_muertes.groupby(columnas_interes).size().sort_values(ascending=False)\n",
    "    df_agrupado = grupo.reset_index().rename(columns = { 0: \"count\" }).sort_values(by = columnas_interes)\n",
    "    # Agregando el año de todas las filas (para distinguir el año de procedencia de la data)\n",
    "    df_agrupado[\"year\"] = int(archivo.split(\".\")[0])\n",
    "    df_agrupado.to_csv(carpeta_destino + archivo, index=False)\n",
    "    print(\"Agrupaciones almacenadas\")\n"
   ]
  },
  {
   "cell_type": "code",
   "execution_count": null,
   "metadata": {},
   "outputs": [],
   "source": [
    "\"\"\"\n",
    "    03 - Algoritmo de estandarización\n",
    "\"\"\""
   ]
  },
  {
   "cell_type": "code",
   "execution_count": 44,
   "metadata": {},
   "outputs": [
    {
     "name": "stdout",
     "output_type": "stream",
     "text": [
      "Consolidado de frecuencias por enfermedad almacenado exitosamente\n"
     ]
    }
   ],
   "source": [
    "\"\"\"\n",
    "    04 - Algoritmo de consolidación y agrupación final\n",
    "\"\"\"\n",
    "carpeta_inicial = RUTA_DATASET_FRECUENCIA_GRUPOS\n",
    "carpeta_destino = RUTA_DATASET_GRUPOS_CONSOLIDADO\n",
    "columnas_interes = COLUMNAS_GRUPOS_INTERES\n",
    "archivos_convertir = os.listdir(carpeta_inicial)\n",
    "\n",
    "primer_archivo = True\n",
    "df_grupos_consolidado = \"\"\n",
    "\n",
    "for archivo in archivos_convertir:\n",
    "    if (primer_archivo):\n",
    "        df_grupos_consolidado = pd.read_csv(carpeta_inicial + archivo)\n",
    "        primer_archivo = False\n",
    "    else:\n",
    "        df_grupo_anio = pd.read_csv(carpeta_inicial + archivo)\n",
    "        df_grupos_consolidado = pd.concat([df_grupos_consolidado, df_grupo_anio])\n",
    "\n",
    "# Almacenando consolidado final de enfermedades por anio\n",
    "df_grupos_consolidado.to_csv(carpeta_destino + NOMBRE_ARCHIVO_CONSOLIDADO_FREC_GRUPO, index=False)\n",
    "print(\"Consolidado de frecuencias por enfermedad almacenado exitosamente\")"
   ]
  }
 ],
 "metadata": {
  "kernelspec": {
   "display_name": "Python 3 (ipykernel)",
   "language": "python",
   "name": "python3"
  },
  "language_info": {
   "codemirror_mode": {
    "name": "ipython",
    "version": 3
   },
   "file_extension": ".py",
   "mimetype": "text/x-python",
   "name": "python",
   "nbconvert_exporter": "python",
   "pygments_lexer": "ipython3",
   "version": "3.11.5"
  }
 },
 "nbformat": 4,
 "nbformat_minor": 5
}
